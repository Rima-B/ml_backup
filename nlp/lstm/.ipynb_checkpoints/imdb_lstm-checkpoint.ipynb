{
 "cells": [
  {
   "cell_type": "markdown",
   "metadata": {},
   "source": [
    "### Sentiment analysis model trained on imdb movies review using TensorFlow\n"
   ]
  },
  {
   "cell_type": "code",
   "execution_count": 1,
   "metadata": {},
   "outputs": [],
   "source": [
    "DATASETS_DIR = '/media/stef/teradata/datasets/'\n",
    "import numpy as np\n",
    "from __future__  import print_function\n",
    "from os import listdir\n",
    "from os.path import join,isdir,isfile\n",
    "\n",
    "\n",
    "\n",
    "# ******* define utils function *********\n",
    "\n",
    "def load_gloveModel(gloveFile):\n",
    "    print (\"Loading Glove Model\")\n",
    "    f = open(gloveFile,'r',encoding='utf-8')\n",
    "    model = {}\n",
    "    for line in f:\n",
    "        splitLine = line.split()\n",
    "        word = splitLine[0]\n",
    "        embedding = [float(val) for val in splitLine[1:]]\n",
    "        model[word] = embedding\n",
    "    print (\"Done.\",len(model),\" words loaded!\")\n",
    "    return model\n",
    "    \n"
   ]
  },
  {
   "cell_type": "markdown",
   "metadata": {},
   "source": [
    "#### Load the glove word vectors, extract vocab and put vector in an numpy array"
   ]
  },
  {
   "cell_type": "code",
   "execution_count": 2,
   "metadata": {
    "scrolled": false
   },
   "outputs": [
    {
     "name": "stdout",
     "output_type": "stream",
     "text": [
      "Loading Glove Model\n",
      "Done. 400000  words loaded!\n",
      "400000\n",
      "(400000, 100)\n",
      "2261\n"
     ]
    }
   ],
   "source": [
    "wordVec_dict = load_gloveModel(join(DATASETS_DIR,'glove6B/glove.6B.100d.txt'))    \n",
    "wordsList = list(wordVec_dict.keys())\n",
    "wordVectors = np.array(list(wordVec_dict.values()))\n",
    "\n",
    "print(len(wordsList))\n",
    "print(wordVectors.shape)\n",
    "print (wordsList.index('dance'))\n"
   ]
  },
  {
   "cell_type": "code",
   "execution_count": 3,
   "metadata": {
    "scrolled": false
   },
   "outputs": [],
   "source": [
    "POSITIVE_REVIEWS = join(DATASETS_DIR,'imdb','train','pos')\n",
    "NEGATIVE_REVIEWS = join(DATASETS_DIR,'imdb','train','neg')\n"
   ]
  },
  {
   "cell_type": "markdown",
   "metadata": {},
   "source": [
    "The training set we're going to use is the Imdb movie review dataset. This set has __25,000__ movie reviews, with __12,500__ positive reviews and __12,500__ negative reviews. Each of the reviews is stored in a txt file that we need to parse through. "
   ]
  },
  {
   "cell_type": "code",
   "execution_count": 4,
   "metadata": {},
   "outputs": [
    {
     "name": "stdout",
     "output_type": "stream",
     "text": [
      "Positive files finished\n",
      "Negative files finished\n",
      "The total number of files is 25000\n",
      "The total number of words in the files is 5844680\n",
      "The average number of words in the files is 233.7872\n"
     ]
    }
   ],
   "source": [
    "positiveFiles = [join(POSITIVE_REVIEWS,f) for f in listdir(POSITIVE_REVIEWS) if isfile(join(POSITIVE_REVIEWS, f))]\n",
    "negativeFiles = [join(NEGATIVE_REVIEWS,f) for f in listdir(NEGATIVE_REVIEWS) if isfile(join(NEGATIVE_REVIEWS, f))]\n",
    "numWords = []\n",
    "for pf in positiveFiles:\n",
    "    with open(pf, \"r\", encoding='utf-8') as f:\n",
    "        line=f.readline()\n",
    "        counter = len(line.split())\n",
    "        numWords.append(counter)       \n",
    "print('Positive files finished')\n",
    "\n",
    "for nf in negativeFiles:\n",
    "    with open(nf, \"r\", encoding='utf-8') as f:\n",
    "        line=f.readline()\n",
    "        counter = len(line.split())\n",
    "        numWords.append(counter)  \n",
    "print('Negative files finished')\n",
    "\n",
    "numFiles = len(numWords)\n",
    "print('The total number of files is', numFiles)\n",
    "print('The total number of words in the files is', sum(numWords))\n",
    "print('The average number of words in the files is', sum(numWords)/len(numWords))"
   ]
  },
  {
   "cell_type": "markdown",
   "metadata": {},
   "source": [
    "#### Visualize the datasets sentences length distribution"
   ]
  },
  {
   "cell_type": "code",
   "execution_count": 7,
   "metadata": {},
   "outputs": [
    {
     "data": {
      "image/png": "[encoded data removed]",
      "text/plain": [
       "<matplotlib.figure.Figure at 0x7f4e0723db38>"
      ]
     },
     "metadata": {},
     "output_type": "display_data"
    }
   ],
   "source": [
    "%matplotlib inline\n",
    "import matplotlib.pyplot as plt\n",
    "import seaborn as sns\n",
    "sns.set(context = \"notebook\", font_scale=1.5, rc={\"lines.linewidth\": 2.5},color_codes=True)\n",
    "sns.distplot(numWords,bins=50);"
   ]
  },
  {
   "cell_type": "markdown",
   "metadata": {},
   "source": [
    " #### we can see that the modal sentences length is around 250 words. The max seq. length value will be set to 250"
   ]
  },
  {
   "cell_type": "code",
   "execution_count": 11,
   "metadata": {
    "collapsed": true
   },
   "outputs": [],
   "source": [
    "maxSeqLen = 250"
   ]
  },
  {
   "cell_type": "markdown",
   "metadata": {},
   "source": [
    "####  print some textual data"
   ]
  },
  {
   "cell_type": "code",
   "execution_count": 15,
   "metadata": {
    "scrolled": false
   },
   "outputs": [
    {
     "name": "stdout",
     "output_type": "stream",
     "text": [
      "\"Father of the Pride \" was another of those good shows that unfortunately don't have a very long life . And that is pretty sad ,specially if you consider that almost all the time the worst shows are still on air ( think in \"The Simple life \") I admit that are many similarities with this show and \"The Simpsons\" ,but despite the similarities ,the show have it own merits . The animation is just adequate ,not incredible ,but is good .The best are the characters . All the animals are very likable and funny , and even Sigfried and Roy had their moments . The music was good ,I liked many of the songs .<br /><br />Even if the show isn't very original ,I think that this had lots of potential .Like \"Mission Hill \" a show that isn't very famous but I liked a lot , this didn't have the appreciation that it deserved . What a shame .\n"
     ]
    }
   ],
   "source": [
    "with open(positiveFiles[723]) as f:\n",
    "    for lines in f:\n",
    "        print(lines)\n",
    "        exit"
   ]
  },
  {
   "cell_type": "markdown",
   "metadata": {},
   "source": [
    "## Build the ids matrix of each sentence\n",
    "- first we need to clean the data to remove non alphanumeric character\n",
    "- then build the id matrix for each sentence"
   ]
  },
  {
   "cell_type": "code",
   "execution_count": 16,
   "metadata": {
    "scrolled": false
   },
   "outputs": [
    {
     "data": {
      "text/plain": [
       "array([   629,      3,      0,   4926,     15,    170,      3,    155,\n",
       "          219,    970,     12,   4716,  46768,     33,      7,    191,\n",
       "          173,    214,      5,     12,     14,   1922,   5279,   9823,\n",
       "           83,     81,   1568,     12,    591,     64,      0,     79,\n",
       "            0,   1607,    970,     32,    149,     13,    325,    269,\n",
       "            6,      0,   2147,    214,     41,   6338,     12,     32,\n",
       "          109,  11576,     17,     37,    273,      5,      0,  17124,\n",
       "           34,    504,      0,  11576,      0,    273,     33,     20,\n",
       "          261,  12638,      0,   7673,     14,    120,   6437,     36,\n",
       "         7446,     34,     14,    219,      0,    254,     32,      0,\n",
       "         2153,     64,      0,   2430,     32,    191,  26077,      5,\n",
       "         5466,      5,    151, 220055,      5,   4563,     40,     44,\n",
       "         4039,      0,    403,     15,    219,     41,   5572,    109,\n",
       "            3,      0,   1499,    151,     83,      0,    273, 228955,\n",
       "          191,    929,     41,    269,     12,     37,     40,   4231,\n",
       "            3,   1156,    117,    985,   1319,      7,    273,     12,\n",
       "       228955,    191,   1613,     34,     41,   5572,      7,    530,\n",
       "           37,  93325,     33,      0,   7521,     12,     20,   9270,\n",
       "          102,      7,   8287,      0,      0,      0,      0,      0,\n",
       "            0,      0,      0,      0,      0,      0,      0,      0,\n",
       "            0,      0,      0,      0,      0,      0,      0,      0,\n",
       "            0,      0,      0,      0,      0,      0,      0,      0,\n",
       "            0,      0,      0,      0,      0,      0,      0,      0,\n",
       "            0,      0,      0,      0,      0,      0,      0,      0,\n",
       "            0,      0,      0,      0,      0,      0,      0,      0,\n",
       "            0,      0,      0,      0,      0,      0,      0,      0,\n",
       "            0,      0,      0,      0,      0,      0,      0,      0,\n",
       "            0,      0,      0,      0,      0,      0,      0,      0,\n",
       "            0,      0,      0,      0,      0,      0,      0,      0,\n",
       "            0,      0,      0,      0,      0,      0,      0,      0,\n",
       "            0,      0,      0,      0,      0,      0,      0,      0,\n",
       "            0,      0], dtype=int32)"
      ]
     },
     "execution_count": 16,
     "metadata": {},
     "output_type": "execute_result"
    }
   ],
   "source": [
    "#***** utils function 2 *****\n",
    "import re\n",
    "strip_special_chars = re.compile(\"[^A-Za-z0-9 ]+\")\n",
    "\n",
    "def cleanSentences(string):\n",
    "    string = string.lower().replace(\"<br />\", \" \")\n",
    "    return re.sub(strip_special_chars, \"\", string.lower())\n",
    "\n",
    "# TODO NOT DONE YET\n",
    "\n",
    "def addwordsIDs(FILES):\n",
    "    firstFile = np.zeros((maxSeqLen), dtype='int32')\n",
    "    with open(positiveFiles[723]) as f:\n",
    "        indexCounter = 0\n",
    "        line=f.readline()\n",
    "        cleanedLine = cleanSentences(line)\n",
    "        split = cleanedLine.split()\n",
    "        for word in split:\n",
    "            try:\n",
    "                firstFile[indexCounter] = wordsList.index(word)\n",
    "            except ValueError:\n",
    "                firstFile[indexCounter] = 399999 #Vector for unknown words\n",
    "            indexCounter = indexCounter + 1\n",
    "            if indexCounter >= maxSeqLen:\n",
    "                break\n",
    "        \n",
    "firstFile"
   ]
  },
  {
   "cell_type": "code",
   "execution_count": 48,
   "metadata": {},
   "outputs": [
    {
     "name": "stdout",
     "output_type": "stream",
     "text": [
      "(250,)\n",
      "[ 629    3    0 4926]\n"
     ]
    }
   ],
   "source": [
    "ids = np.zeros((numFiles, maxSeqLen), dtype='int32')\n",
    "print(firstFile.shape)\n",
    "c = np.array([firstFile,firstFile])\n",
    "c2 = np.array([c,firstFile])\n",
    "#print(c.shape)\n",
    "print(firstFile[0:4,])"
   ]
  }
 ],
 "metadata": {
  "kernelspec": {
   "display_name": "Python 3",
   "language": "python",
   "name": "python3"
  },
  "language_info": {
   "codemirror_mode": {
    "name": "ipython",
    "version": 3
   },
   "file_extension": ".py",
   "mimetype": "text/x-python",
   "name": "python",
   "nbconvert_exporter": "python",
   "pygments_lexer": "ipython3",
   "version": "3.6.1"
  }
 },
 "nbformat": 4,
 "nbformat_minor": 2
}
